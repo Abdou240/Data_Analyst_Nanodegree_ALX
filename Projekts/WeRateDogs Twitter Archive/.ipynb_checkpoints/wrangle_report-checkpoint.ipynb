{
 "cells": [
  {
   "cell_type": "markdown",
   "metadata": {},
   "source": [
    "## WeRateDogs Twitter Archive - Wrangle Report\n",
    "\n",
    "\n",
    "Dealing with that data was very interesting because I had to collect, assess, and clean the data myself before I could examine it. This is so different from my experience that I basically get almost perfectly clean data and can analyze it from there without thinking about how it was collected.\n",
    "\n",
    "I can imagine that in practice it can be difficult to get data from multiple sources, as understanding how to collect the data can be a challenge in itself. For example, importing the data from a CSV file was relatively easy, as I've done that many times by now. But collecting the data from the Twitter API required additional effort, as I had to read the documentation and understand what data I was getting from the API once it was retrieved. I would imagine this is a lot of work if you have to use multiple APIs for one report. One thing that I particularly struggled with was linking the different reference terms for the same data (e.g. \"twitter_id\" vs. \"id\").\n",
    "\n",
    "This project really demonstrated to me how necessary it is to evaluate and clean the data and how much time this can take. There were several times that I assessed the data and then started cleaning the data before I realized that I had missed a feature of the data that I should have identified during the assessment. I had to go back, document the problem, and then proceed with the cleanup before I could continue my original efforts. This showed me the importance of thoroughly assessing the data.\n",
    "\n",
    "However, the cleanup was definitely the most time-consuming part of the data processing. It was very surprising how much needed to be adjusted and that some of the issues really needed to be looked at closely. Even taking that into account, I didn't clean up everything! While the project requirements stated that we didn't have to clean up all the issues, I could see that it could take a lot of time to clean up before any analysis was even done!\n",
    "\n",
    "All in all, I feel that I did a good job of processing this data, and I will remember to review my data thoroughly before I do any analysis."
   ]
  }
 ],
 "metadata": {
  "kernelspec": {
   "display_name": "Python 3 (ipykernel)",
   "language": "python",
   "name": "python3"
  },
  "language_info": {
   "codemirror_mode": {
    "name": "ipython",
    "version": 3
   },
   "file_extension": ".py",
   "mimetype": "text/x-python",
   "name": "python",
   "nbconvert_exporter": "python",
   "pygments_lexer": "ipython3",
   "version": "3.9.13"
  }
 },
 "nbformat": 4,
 "nbformat_minor": 2
}
